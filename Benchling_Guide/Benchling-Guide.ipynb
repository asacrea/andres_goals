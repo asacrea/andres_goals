{
 "cells": [
  {
   "cell_type": "markdown",
   "id": "f3039d85",
   "metadata": {},
   "source": [
    "# Benchling Guide"
   ]
  },
  {
   "cell_type": "markdown",
   "id": "b7f4a8f8",
   "metadata": {},
   "source": [
    "Benchling is a powerful cloud-based platform designed for life science research, including molecular biology, genomics, and biotechnology. This guide will walk you through the basic steps to use Benchling effectively. "
   ]
  },
  {
   "cell_type": "markdown",
   "id": "b2d73cc6",
   "metadata": {},
   "source": [
    "### Getting Started with Benchling"
   ]
  },
  {
   "cell_type": "markdown",
   "id": "f12b79e6",
   "metadata": {},
   "source": [
    "1. Create an Account\n",
    "    - Visit the Benchling website (https://www.benchling.com) and sign up for a new account.\n",
    "    - You may need to provide your email address, create a password, and agree to the terms of service.\n",
    "2. Log In:\n",
    "     - After creating your account, log in using your email and password."
   ]
  },
  {
   "cell_type": "markdown",
   "id": "53ccd816",
   "metadata": {},
   "source": [
    "### Workspace Overview"
   ]
  },
  {
   "cell_type": "markdown",
   "id": "8534bf36",
   "metadata": {},
   "source": [
    "1. **Dashboard:**\n",
    "    - Upon logging in, you'll be taken to your Benchling dashboard. This is your central hub for managing projects, experiments, and data.\n",
    "2. **Projects:**\n",
    "    - Organize your work by creating projects. Click on \"Projects\" to create a new project and give it a name. You can create separate projects for different research areas.\n",
    "3. **Notebooks:**\n",
    "    - Inside each project, you can create digital lab notebooks to record and track your experiments and research progress. Click on \"Notebooks\" to create a new notebook within a project.\n",
    "4. **Registry:**\n",
    "    - The Registry is where you can manage and search for DNA sequences, plasmids, and other biological materials. You can add new items and annotate them with relevant information.\n",
    "5. **Inventory:**\n",
    "    - The Inventory feature allows you to track your lab supplies and manage inventory levels."
   ]
  },
  {
   "cell_type": "markdown",
   "id": "a0453ae1",
   "metadata": {},
   "source": [
    "## The Benchling Developer Platform\n",
    "\n",
    "The Benchling Developer Platform allows you to programmatically access and edit data in Benchling. The platform is most commonly used for:\n",
    "\n",
    "- Keeping Benchling in sync with other systems\n",
    "- Bulk Loading/Exporting data\n",
    "- Creating dashboards and charts of Benchling data\n",
    "- Integrating with Instruments in the lab\n",
    "\n",
    "Components:\n",
    "\n",
    "1. Benchling UI\n",
    "2. Benchling Cloud App\n",
    "3. Benchling "
   ]
  },
  {
   "cell_type": "markdown",
   "id": "ae655ae0",
   "metadata": {},
   "source": [
    "## Benchling Cloud Apps"
   ]
  },
  {
   "cell_type": "markdown",
   "id": "e842b12a",
   "metadata": {},
   "source": [
    "Benchling's cloud apps are specialized tools and integrations that extend the functionality of the platform. These apps can help you perform specific tasks and analyses more efficiently.\n",
    "\n",
    "Popular Benchling Cloud Apps:\n",
    "\n",
    "1. **Sequence Analysis Apps**:\n",
    "These apps allow you to perform in-depth sequence analysis, such as primer design, sequence alignment, and ORF prediction.\n",
    "2. **Protein Engineering Apps**:\n",
    "For researchers working with proteins, these apps provide tools for protein modeling, structure prediction, and protein-protein interaction analysis.\n",
    "3. **CRISPR Design Apps**:\n",
    "Simplify the design of CRISPR experiments with apps that assist in guide RNA selection and off-target analysis.\n",
    "4. **Chemistry Apps**:\n",
    "If your research involves chemical structures, these apps enable you to draw and analyze chemical structures, calculate properties, and manage chemical inventory.\n",
    "5. **Data Visualization Apps**:\n",
    "These apps help you create visual representations of your data, such as graphs and charts, to gain insights from your research.\n",
    "6. **Data Integration Apps**:\n",
    "Integrate Benchling with other data analysis tools or databases using apps to streamline data sharing and analysis."
   ]
  },
  {
   "cell_type": "markdown",
   "id": "06397243",
   "metadata": {},
   "source": [
    "## Benchling Events\n",
    "\n",
    "Benchling's events feature allows you to set up notifications and triggers based on specific conditions or actions within your projects. Events are a powerful way to automate processes and stay updated on project developments. Events use AWS EventBridge to notify and execute actions base on the events happening on Benchling Apps.\n",
    "\n",
    "Examples of Events:\n",
    "\n",
    "1. **Entry Approval**:\n",
    "Set up an event to notify you when a team member requests approval for an entry in your project.\n",
    "2. **Data Upload**:\n",
    "Receive notifications when new data is uploaded to your project, helping you stay up-to-date with the latest results.\n",
    "3. **Inventory Alerts**:\n",
    "Configure alerts for low inventory levels, ensuring you never run out of critical lab supplies.\n",
    "4. **Sequence Annotation**:\n",
    "Get notified when sequences are annotated or when specific keywords are mentioned in your project's entries.\n",
    "\n",
    "If you want to reduce the amount of polling your app needs to do or build a feature that triggers off actions in Benchling, you’ll want to set up Events and route them to your app. Note that this does require using AWS Eventbridge, as it is the only delivery method Benchling currently support for events. Check out the Events Getting Started guide for how to begin (https://docs.benchling.com/docs/events-getting-started), and the Request + Slack integration (https://docs.benchling.com/docs/example-push-benchling-request-notification-to-slack) walkthrough for an example evented app.\n"
   ]
  },
  {
   "cell_type": "markdown",
   "id": "3eb71a76",
   "metadata": {},
   "source": [
    "### Data Ingest\n",
    "\n",
    "The only developer interface that supports writing data into Benchling is the RestAPIs. Even still, your solution could take a variety of different forms.\n",
    "\n",
    "If you’re writing a script that is intended to be used once or run directly by a user, leveraging the user API key is the simplest and most straightforward way to make the calls. Their actions will be accurately represented in Benchling’s audit and activity logs. Check out our API Tutorial to get started, and check out our API Reference to see what kinds of data you can write to Benchling.\n",
    "\n",
    "If you’re writing a persistent or long-running application that regularly uploads data to Benchling, you’ll likely want to create a Benchling app to make sure it isn’t attached to a single user. Check out the getting started with Benchling apps guide to do so.\n",
    "\n",
    "Regardless of your choice, Benchling highly recommend using the Python SDK if you’re comfortable in Python, as it supports both methods.\n",
    "\n",
    "Once you’ve completed the getting started guides, you can walk through a richer example of how to write data to the APIs with our Results upload guide.\n",
    "\n",
    "### Data Export\n",
    "\n",
    "Exporting data is generally best accomplished through the RestAPIs as well, again using a user API key for one-offs scripts and Benchling apps for more persistent use cases and using the Python SDK if you’re comfortable in Python.\n",
    "\n",
    "If you’re more comfortable in SQL or need very large amounts of data, and you do not need the data to be “live” up to the minute, you can also leverage the Benchling Data Warehouse. Check out the Warehouse guide to learn more and get started accessing it."
   ]
  },
  {
   "cell_type": "markdown",
   "id": "f71d688b",
   "metadata": {},
   "source": [
    "## Benchling API\n",
    "\n",
    "The Benchling API is the most flexible way to build an integration with Benchling. The API provides CRUD (Create Read Update Delete) access to almost all data in Benchling, through REST endpoints that represent that data as JSON.\n",
    "\n",
    "The Benchling API provides a set of endpoints and protocols that allow developers to access and interact with Benchling's data and functionality. It serves as an interface between external applications and the Benchling platform\n",
    "\n",
    "With the Benchling API, developers can perform a wide range of tasks, including retrieving data from Benchling, uploading data to Benchling, creating custom workflows, integrating with external software and hardware, and automating various processes within the Benchling platform.\n",
    "\n",
    "Key API Capabilities:\n",
    "\n",
    "1. **Data Retrieval:**\n",
    "Retrieve data from Benchling, such as sequences, entries, or project information, programmatically.\n",
    "2. **Data Upload:**\n",
    "Automate the process of uploading data to Benchling from external sources or instruments.\n",
    "3. **Custom Workflows:**\n",
    "Create custom workflows and automation scripts tailored to your research requirements.\n",
    "4. **Third-Party Integrations:**\n",
    "Integrate Benchling with other lab equipment, analysis software, or databases for a seamless research workflow.\n",
    "5. **Data Export:**\n",
    "Use APIs to export data from Benchling in various formats for further analysis or reporting.\n",
    "6. **Authentication and Security:**\n",
    "Ensure data security and access control through API authentication mechanisms."
   ]
  },
  {
   "cell_type": "markdown",
   "id": "960ea450",
   "metadata": {},
   "source": [
    "To start making use of the Benchling API, it is first necessary to generate the API Keys or create the Benchling Domains following this guide (https://docs.benchling.com/docs/getting-started-1#tutorial)."
   ]
  },
  {
   "cell_type": "markdown",
   "id": "d8f3a6c4",
   "metadata": {},
   "source": [
    "Your API key is unique for your Benchling domain (sometimes also referred to as your Benchling tenant). When making calls to the API your API key will only be valid for your specific Benchling domain. For example, if your Benchling instance is example.benchling.com (https://example.benchling.com/) and your API key is sk_12345, an example like"
   ]
  },
  {
   "cell_type": "code",
   "execution_count": null,
   "id": "21b1de72",
   "metadata": {},
   "outputs": [],
   "source": [
    "curl $YOUR_DOMAIN -u $YOUR_API_KEY"
   ]
  },
  {
   "cell_type": "code",
   "execution_count": null,
   "id": "3864c3f2",
   "metadata": {},
   "outputs": [],
   "source": [
    "curl https://example.benchling.com -u sk_12345:"
   ]
  },
  {
   "cell_type": "markdown",
   "id": "24f80c67",
   "metadata": {},
   "source": [
    "## Benchling SDK\n",
    "\n",
    "The Benchling SDK is a set of pre-built libraries, tools, and code resources that are designed to simplify the process of interacting with Benchling's API. It provides a higher-level abstraction and can make it easier for developers to work with Benchling programmatically.\n",
    "\n",
    "The SDK typically includes pre-written code for common tasks, such as authentication, making API requests, handling responses, and managing sessions. It abstracts many of the low-level details of working with the API.\n",
    "\n",
    "The SDK is intended to make it more straightforward for developers to integrate Benchling into their applications. It abstracts the complexities of direct API interactions, potentially reducing development time and effort.\n",
    "\n",
    "SDKs are often language-specific. Benchling may offer SDKs for popular programming languages like Python, JavaScript, or Java, allowing developers to work in the language they are most comfortable with."
   ]
  },
  {
   "cell_type": "markdown",
   "id": "f81ed546",
   "metadata": {},
   "source": [
    "### Installation\n",
    "\n",
    "#### Stable\n",
    "\n",
    "Install the latest stable release of the Benchling SDK via Poetry (if applicable):"
   ]
  },
  {
   "cell_type": "code",
   "execution_count": null,
   "id": "83522abe",
   "metadata": {},
   "outputs": [],
   "source": [
    "poetry add benchling-sdk"
   ]
  },
  {
   "cell_type": "markdown",
   "id": "f41d93bd",
   "metadata": {},
   "source": [
    "Or via pip"
   ]
  },
  {
   "cell_type": "code",
   "execution_count": null,
   "id": "125a254d",
   "metadata": {},
   "outputs": [],
   "source": [
    "pip install benchling-sdk"
   ]
  },
  {
   "cell_type": "markdown",
   "id": "41b508fc",
   "metadata": {},
   "source": [
    "The Benchling SDK can use an API key or OAuth credentials for authentication. If you're using an API key, start by obtaining a valid API key from your Benchling account and provide it to the SDK, along with the URL for your tenant. (https://help.benchling.com/hc/en-us/articles/9714802977805-Access-the-Benchling-Developer-Platform-Enterprise-)"
   ]
  },
  {
   "cell_type": "code",
   "execution_count": null,
   "id": "53dfdfcf",
   "metadata": {},
   "outputs": [],
   "source": [
    "from benchling_sdk.benchling import Benchling\n",
    "from benchling_sdk.auth.api_key_auth import ApiKeyAuth\n",
    "\n",
    "benchling = Benchling(url=\"https://my.benchling.com\", auth_method=ApiKeyAuth(\"api_key\"))"
   ]
  },
  {
   "cell_type": "markdown",
   "id": "d1dd2c44",
   "metadata": {},
   "source": [
    "If you're using OAuth credentials from an app, start by obtaining a valid client ID and client secret from the app's settings page in Benchling (https://docs.benchling.com/docs/getting-started-benchling-apps#calling-the-api-as-an-app). Then, provide the client ID and secret to the SDK, along with the URL for your tenant. You can also find more examples using the SDK with an app here."
   ]
  },
  {
   "cell_type": "code",
   "execution_count": null,
   "id": "064082b2",
   "metadata": {},
   "outputs": [],
   "source": [
    "from benchling_sdk.benchling import Benchling\n",
    "from benchling_sdk.auth.client_credentials_oauth2 import ClientCredentialsOAuth2\n",
    "\n",
    "auth_method = ClientCredentialsOAuth2(client_id=\"{id_here}\",client_secret=\"{secret_here}\")\n",
    "benchling = Benchling(url=\"https://{tenant_name}.benchling.com\", auth_method=auth_method)"
   ]
  },
  {
   "cell_type": "markdown",
   "id": "8b3a2109",
   "metadata": {},
   "source": [
    "Now, with Benchling instantiated, make a sample call to list DNA Sequences:"
   ]
  },
  {
   "cell_type": "code",
   "execution_count": null,
   "id": "ce3358a4",
   "metadata": {},
   "outputs": [],
   "source": [
    "example_entities = benchling.dna_sequences.list()\n",
    "for page in example_entities:\n",
    "    for sequence in page:\n",
    "        print(f\"name: {sequence.name}\\nid:{sequence.id}\\n\")"
   ]
  },
  {
   "cell_type": "markdown",
   "id": "97309313",
   "metadata": {},
   "source": [
    "### Entity Interactions"
   ]
  },
  {
   "cell_type": "markdown",
   "id": "e99994a5",
   "metadata": {},
   "source": [
    "#### Creation\n",
    "\n",
    "One of the most basic interactions with Benchling is creating an unregistered DNA sequence entity. This requires only that you provide the folder in which you want the entity to reside. Unlike registering entities directly, this will not enforce any required fields, as Benchling are not required to pre-select a specific schema at this time. This is ideal when more details will be added to the entities at a later date. A single schema field, species, is included on this entity, using the serialization helper method fields(), which is covered in more detail below"
   ]
  },
  {
   "cell_type": "code",
   "execution_count": null,
   "id": "df5aa79b",
   "metadata": {},
   "outputs": [],
   "source": [
    "from benchling_sdk.benchling import Benchling\n",
    "from benchling_sdk.models import DnaSequenceCreate\n",
    "from benchling_sdk.helpers.serialization_helpers import fields\n",
    "\n",
    "# Here we instantiate the object to be created\n",
    "entityToCreate = DnaSequenceCreate(\n",
    "    folder_id=\"lib_xyz\",\n",
    "    name=\"test123\",\n",
    "    is_circular=False,\n",
    "    fields=fields({\n",
    "      \"species\": {\"value\": \"mouse\"}\n",
    "    }),\n",
    "    bases=\"cgatctgagtctaaaaacgtactgagtcgcg\"\n",
    ")\n",
    "\n",
    "# Next we use the create function to serialize the data and call the API\n",
    "benchling.dna_sequences.create(entityToCreate)"
   ]
  },
  {
   "cell_type": "markdown",
   "id": "beecfacb",
   "metadata": {},
   "source": [
    "#### Updates\n",
    "\n",
    "A common case for updating an existing entity is setting one or more fields on the entity. When performing such an update, we should only specify fields which we want to replace. Other fields on the existing entity will be preserved."
   ]
  },
  {
   "cell_type": "code",
   "execution_count": null,
   "id": "0b630dd1",
   "metadata": {},
   "outputs": [],
   "source": [
    "from benchling_sdk.benchling import Benchling\n",
    "from benchling_sdk.models import DnaSequenceUpdate\n",
    "from benchling_sdk.helpers.serialization_helpers import fields\n",
    "\n",
    "# The ID of an existing entity we want to update\n",
    "existing_sequence_id = \"seq_SmiFihRA\"\n",
    "\n",
    "# Specify the attributes of the entity to update\n",
    "# Unspecified fields will not be altered\n",
    "entityToUpdate = DnaSequenceUpdate(\n",
    "    fields=fields({\n",
    "      # Set this field to a new value\n",
    "      \"species\": {\"value\": \"horse\"},\n",
    "      # Blank out the value for this field\n",
    "      \"comment\": {\"value\": None}\n",
    "    })\n",
    ")\n",
    "\n",
    "# Next we use the update function to serialize the data and call the API\n",
    "benchling.dna_sequences.update(dna_sequence_id=existing_sequence_id, dna_sequence=entityToUpdate)"
   ]
  },
  {
   "cell_type": "markdown",
   "id": "2da59465",
   "metadata": {},
   "source": [
    "#### Registration\n",
    "\n",
    "At times, you may want to create an entity directly into the registry instead of calling create and register separately. The process for doing this is defined in the documentation for Create endpoints. You will need to provide the registry_id and entity_registry_id OR the registry_id and a naming_strategy.\n",
    "\n",
    "You may not specify both an entity_registry_id and a naming_strategy when creating into the registry.\n",
    "\n",
    "The following code snippet creates an entity into the registry by providing the registry_id and the entity_registry_id:"
   ]
  },
  {
   "cell_type": "code",
   "execution_count": null,
   "id": "7ce3d918",
   "metadata": {},
   "outputs": [],
   "source": [
    "from benchling_sdk.benchling import Benchling\n",
    "from benchling_sdk.models import CustomEntityCreate\n",
    "from benchling_sdk.helpers.serialization_helpers import fields\n",
    "from benchling_api_client.models.naming_strategy import NamingStrategy\n",
    "\n",
    "entity = CustomEntityCreate(\n",
    "    fields=fields({\n",
    "      \"Wavelength (nm)\": {\"value\": \"280\"}\n",
    "    }),\n",
    "    folder_id=\"folder_id\",\n",
    "    name=\"entity_name\",\n",
    "    registry_id=\"registry_id\",\n",
    "    entity_registry_id=\"entity_registry_id\",\n",
    "    aliases=['testAlias'],\n",
    "    schema_id=\"schema_id\"\n",
    ")\n",
    "\n",
    "benchling.custom_entities.create(entity)"
   ]
  },
  {
   "cell_type": "markdown",
   "id": "d2f9c3ff",
   "metadata": {},
   "source": [
    "Or The following code snippet creates an entity into the registry by providing the registry_id and the naming_strategy:"
   ]
  },
  {
   "cell_type": "code",
   "execution_count": null,
   "id": "70db05f6",
   "metadata": {},
   "outputs": [],
   "source": [
    "from benchling_sdk.benchling import Benchling\n",
    "from benchling_sdk.models import CustomEntityCreate\n",
    "from benchling_sdk.helpers.serialization_helpers import fields\n",
    "from benchling_api_client.models.naming_strategy import NamingStrategy\n",
    "\n",
    "entity = CustomEntityCreate(\n",
    "    fields=fields({\n",
    "      \"Wavelength (nm)\": {\"value\": \"280\"}\n",
    "    }),\n",
    "    folder_id=\"folder_id\",\n",
    "    name=\"entity_name\",\n",
    "    registry_id=\"registry_id\",\n",
    "    naming_strategy=NamingStrategy.NEW_IDS,\n",
    "    aliases=['testAlias'],\n",
    "    entities.schema_id=\"schema_id\"\n",
    ")\n",
    "benchling.custom_entities.create(entity)"
   ]
  },
  {
   "cell_type": "markdown",
   "id": "762d6a52",
   "metadata": {},
   "source": [
    "### Iterating through Pages"
   ]
  },
  {
   "cell_type": "code",
   "execution_count": null,
   "id": "76aad064",
   "metadata": {},
   "outputs": [],
   "source": [
    "from benchling_sdk.benchling import Benchling\n",
    "from benchling_sdk.auth.api_key_auth import ApiKeyAuth\n",
    "\n",
    "benchling = Benchling(url=\"https://my.benchling.com\", auth_method=ApiKeyAuth(\"api_key\"))\n",
    "\n",
    "def print_sequences(seq_list):\n",
    "    for page in seq_list:\n",
    "        for sequence in page:\n",
    "            print(f\"name: {sequence.name}\\nid:{sequence.id}\\n\")\n",
    "\n",
    "dna_sequence_generator = benchling.dna_sequences.list()\n",
    "print_sequences(dna_sequence_generator)"
   ]
  },
  {
   "cell_type": "markdown",
   "id": "2993c563",
   "metadata": {},
   "source": [
    "### Working with Schema Fields"
   ]
  },
  {
   "cell_type": "code",
   "execution_count": null,
   "id": "d8f10d82",
   "metadata": {},
   "outputs": [],
   "source": [
    "from benchling_sdk.helpers.serialization_helpers import fields\n",
    "from benchling_sdk.models import CustomEntityCreate\n",
    "\n",
    "entity = CustomEntityCreate(\n",
    "    name=\"My Entity\",\n",
    "    fields=fields({\n",
    "    \"a_field\": {\"value\": \"First value\"},\n",
    "    \"second_field\": {\"value\": \"Second value\"},\n",
    "    })\n",
    ")"
   ]
  },
  {
   "cell_type": "markdown",
   "id": "0138df81",
   "metadata": {},
   "source": [
    "### Async Tasks"
   ]
  },
  {
   "cell_type": "markdown",
   "id": "ec819573",
   "metadata": {},
   "source": [
    "Many Benchling endpoints that perform expensive operations launch Tasks. These are modeled in the SDK as benchling_sdk.models.AsyncTask.\n",
    "\n",
    "To simply retrieve the status of a task given its id:"
   ]
  },
  {
   "cell_type": "code",
   "execution_count": null,
   "id": "bfb19610",
   "metadata": {},
   "outputs": [],
   "source": [
    "async_task = benchling.tasks.get_by_id(\"task_id\")"
   ]
  },
  {
   "cell_type": "markdown",
   "id": "822ec827",
   "metadata": {},
   "source": [
    "This will return the AsyncTask object, which may still be in progress. More commonly, it may be desirable to delay further execution until a task is completed.\n",
    "\n",
    "In this case, you may block further processing until the task is no longer RUNNING:"
   ]
  },
  {
   "cell_type": "code",
   "execution_count": null,
   "id": "1e792e61",
   "metadata": {},
   "outputs": [],
   "source": [
    "completed_task = benchling.tasks.wait_for_task(\"task_id\")"
   ]
  },
  {
   "cell_type": "markdown",
   "id": "0e513ca9",
   "metadata": {},
   "source": [
    "The wait_for_task method will return the task once its status is no longer RUNNING. This does not guarantee the task executed successfully (see benchling_sdk.models.AsyncTaskStatus), only that Benchling considers it complete.\n",
    "\n",
    "wait_for_task can be configured by optionally specifying interval_wait_seconds for the time to wait between calls and max_wait_seconds which is the maximum number of seconds before wait_for_task will give up and raise benchling_sdk.errors.WaitForTaskExpiredError.\n",
    "\n",
    "Example: Check the task status once every 2 seconds for up to 60 seconds"
   ]
  },
  {
   "cell_type": "code",
   "execution_count": null,
   "id": "6c764933",
   "metadata": {},
   "outputs": [],
   "source": [
    "completed_task = benchling.tasks.wait_for_task(task_id=\"task_id\", interval_wait_seconds=2, max_wait_seconds=60)"
   ]
  },
  {
   "cell_type": "markdown",
   "id": "e6cecc7a",
   "metadata": {},
   "source": [
    "### Retries\n",
    "\n",
    "The SDK will automatically retry certain HTTP calls when the calls fail and certain conditions are met.\n",
    "\n",
    "The default strategy is to retry calls failing with HTTP status codes 429, 502, 503, and 504. The rationale for these status codes being retried is that many times they are indicative of a temporary network failure or exceeding the rate limit and may be successful upon retry.\n",
    "\n",
    "Retries will be attempted up to 5 times, with an exponential time delay backoff between calls.\n",
    "\n",
    "To disable retries, specify None for retry_strategy when constructing Benchling:"
   ]
  },
  {
   "cell_type": "code",
   "execution_count": null,
   "id": "5fd78a87",
   "metadata": {},
   "outputs": [],
   "source": [
    "benchling = Benchling(url=\"https://my.benchling.com\", auth_method=ApiKeyAuth(\"api_key\"), retry_strategy=None"
   ]
  },
  {
   "cell_type": "markdown",
   "id": "f093ecf5",
   "metadata": {},
   "source": [
    "### Error Handling\n",
    "\n",
    "Failed API interactions will generally return a BenchlingError, which will contain some underlying information on the HTTP response such as the status. Example:"
   ]
  },
  {
   "cell_type": "code",
   "execution_count": null,
   "id": "a1ffa838",
   "metadata": {},
   "outputs": [],
   "source": [
    "from benchling_sdk.errors import BenchlingError\n",
    "\n",
    "try:\n",
    "    requests = benchling.requests.get_by_id(\"request_id\")\n",
    "except BenchlingError as error:\n",
    "    print(error.status_code)"
   ]
  },
  {
   "cell_type": "markdown",
   "id": "c24048b5",
   "metadata": {},
   "source": [
    "If an HTTP error code is not returned to the SDK or deserialization fails, an unbounded Exception could be raised instead."
   ]
  },
  {
   "cell_type": "markdown",
   "id": "1cc709ff",
   "metadata": {},
   "source": [
    "### Using the returning parameter\n",
    "\n",
    "For some API endpoints, the returning parameter enables finer control over the data returned by the Benchling API. For these endpoints, the corresponding SDK methods also support the returning parameter; using the returning parameter in the SDK involves passing an iterable of strings, where each string corresponds to the fields being requested.\n",
    "\n",
    "For example, the following code would produce an iterable of plate objects with only the name and id fields for each plate:"
   ]
  },
  {
   "cell_type": "code",
   "execution_count": null,
   "id": "8f7ebc41",
   "metadata": {},
   "outputs": [],
   "source": [
    "plates = benchling.plates.list(returning=[\"plates.name\",\"plates.id\"])"
   ]
  },
  {
   "cell_type": "markdown",
   "id": "58210737",
   "metadata": {},
   "source": [
    "Fields that are not requested using the returning parameter are set to UNSET (https://docs.benchling.com/docs/common-sdk-interactions-and-examples#the-unset-type)"
   ]
  },
  {
   "cell_type": "markdown",
   "id": "05cb38a3",
   "metadata": {},
   "source": [
    "### Interacting with API calls not yet supported in the SDK\n",
    "\n",
    "For making customized API calls to Benchling, the SDK supports an open-ended Benchling.api namespace that exposes varying levels of interaction for HTTP GET, POST, PATCH, and DELETE methods.\n",
    "\n",
    "This is useful for API endpoints which the SDK may not support yet or for more granular control at the HTTP layer.\n",
    "\n",
    "For each verb, there are two related methods. Using GET as an example:\n",
    "\n",
    "get_response() - Returns a benchling_api_client.types.Response which has been parsed to a JSON dict and is slightly more structured.\n",
    "get_modeled() - Returns any custom model which extends benchling_sdk.helpers.serialization_helpers.DeserializableModel and must be a Python @dataclass.\n",
    "Both will automatically retry failures according to RetryStrategy and will marshall errors to BenchlingError.\n",
    "\n",
    "When calling any of the methods in Benchling.api, specify the full path to the URL except for the scheme and server. This differs from other API services, which will prepend the URL with a base_path.\n",
    "\n",
    "For example, if wishing to call an endpoint https://my.benchling.com/api/v2/custom-entities?some=param, pass api/v2/custom-entities?some=param for the url.\n",
    "Here's an example of making a custom call with post_modeled():"
   ]
  },
  {
   "cell_type": "code",
   "execution_count": null,
   "id": "c22b421f",
   "metadata": {},
   "outputs": [],
   "source": [
    "from dataclasses import dataclass, field\n",
    "from typing import Any, Dict\n",
    "from dataclasses_json import config\n",
    "from benchling_sdk.helpers.serialization_helpers import DeserializableModel, SerializableModel\n",
    "\n",
    "\n",
    "@dataclass\n",
    "class ModeledCustomEntityPost(SerializableModel):\n",
    "    name: str\n",
    "    fields: Dict[str, Any]\n",
    "    # If the property name in the API JSON payload does not match the Python attribute, use\n",
    "    # field and config to specify the appropriate name for serializing/deserializing\n",
    "    folder_id: str = field(metadata=config(field_name=\"folderId\"))\n",
    "    schema_id: str = field(metadata=config(field_name=\"schemaId\"))\n",
    "\n",
    "\n",
    "@dataclass\n",
    "class ModeledCustomEntityGet(DeserializableModel):\n",
    "    id: str\n",
    "    name: str\n",
    "    fields: Dict[str, Any]\n",
    "    folder_id: str = field(metadata=config(field_name=\"folderId\"))\n",
    "    # Assumes `benchling` is already configured and instantiated as `Benchling`\n",
    "\n",
    "\n",
    "body = ModeledCustomEntityPost(\n",
    "    name=\"My Custom Entity Model\",\n",
    "    folder_id=\"folder_id\",\n",
    "    schema_id=\"schema_id\",\n",
    "    fields={\"My Field\": {\"value\": \"Modeled Entity\"}},\n",
    ")\n",
    "created_entity = benchling.api.post_modeled(\n",
    "    url=\"api/v2/custom-entities\", body=body, target_type=ModeledCustomEntityGet\n",
    ")"
   ]
  },
  {
   "cell_type": "markdown",
   "id": "fe5e004f",
   "metadata": {},
   "source": [
    "The returned created_entity will be of type ModeledCustomEntityGet. Classes extending SerializableModel and DeserializableModel will inherit serialize() and deserialize() methods respectively which will act on Python class attributes by default. These can be overridden for more customized serialization needs."
   ]
  },
  {
   "cell_type": "markdown",
   "id": "b83af29a",
   "metadata": {},
   "source": [
    "### Customization of the API Client\n",
    "\n",
    "While the SDK abstracts most of the HTTP transport layer, access can still be granted via the BenchlingApiClient. A common use case might be extending HTTP timeouts for all calls.\n",
    "\n",
    "This can be achieved by specifying a function which accepts a default configured instance of BenchlingApiClient and returns a mutated instance with the desired changes.\n",
    "\n",
    "For example, to set the HTTP timeout to 180 seconds:"
   ]
  },
  {
   "cell_type": "code",
   "execution_count": null,
   "id": "3c562571",
   "metadata": {},
   "outputs": [],
   "source": [
    "from benchling_api_client.benchling_client import BenchlingApiClient\n",
    "\n",
    "def higher_timeout_client(client: BenchlingApiClient) -> BenchlingApiClient:\n",
    "    return client.with_timeout(180)\n",
    "\n",
    "\n",
    "benchling = Benchling(\n",
    "    url=\"https://my.benchling.com\",\n",
    "    auth_method=ApiKeyAuth(\"api_key\"),\n",
    "    client_decorator=higher_timeout_client,\n",
    ")"
   ]
  },
  {
   "cell_type": "markdown",
   "id": "2b156f3b",
   "metadata": {},
   "source": [
    "### The Unset type\n",
    "\n",
    "The Benchling SDK uses the type benchling_api_client.types.Unset and the constant value benchling_api_client.types.UNSET to represent values that were not present in an interaction with the API. This is to distinguish from values that were explicitly set to None from those that were simply unspecified."
   ]
  },
  {
   "cell_type": "code",
   "execution_count": null,
   "id": "fb0cddf7",
   "metadata": {},
   "outputs": [],
   "source": [
    "from benchling_sdk.models import CustomEntityUpdate\n",
    "\n",
    "update = CustomEntityUpdate(name=\"New name\")\n",
    "updated_entity = benchling.custom_entities.update(entity_id=\"entity_id\", entity=update)"
   ]
  },
  {
   "cell_type": "markdown",
   "id": "b3831207",
   "metadata": {},
   "source": [
    "All other properties of CustomEntityUpdate besides name will default to UNSET and not be sent with the update. Setting any optional property to None will send a null JSON value. In general, you should not need to set UNSET directly.\n",
    "When receiving objects from the API, some of their fields may be Unset. The SDK will raise a benchling_api_client.extensions.NotPresentError if a field which is Unset is accessed, so that type hinting always reflects the type of the field without needing to Union with the Unset type. When constructing objects, if you need to set a field to Unset after its construction, properties which are optional support the python del keyword, e.g.:"
   ]
  },
  {
   "cell_type": "code",
   "execution_count": null,
   "id": "4c9f70fc",
   "metadata": {},
   "outputs": [],
   "source": [
    "from benchling_sdk.models import CustomEntityUpdate\n",
    "\n",
    "update = CustomEntityUpdate(name=\"New name\", folder_id=\"folder_id\")\n",
    "del update.folder_id"
   ]
  },
  {
   "cell_type": "markdown",
   "id": "e9d7fa13",
   "metadata": {},
   "source": [
    "If the property cannot be Unset but del is used on it, Python will raise with AttributeError: can't delete attribute.\n",
    "\n",
    "If you happen to have an instance of Unset that you'd like to treat equivalent to Optional[T], you can use the convenience function unset_as_none():"
   ]
  },
  {
   "cell_type": "code",
   "execution_count": null,
   "id": "1ff94b69",
   "metadata": {},
   "outputs": [],
   "source": [
    "from typing import Union\n",
    "from benchling_sdk.helpers.serialization_helpers import unset_as_none\n",
    "\n",
    "sample_value: Union[Unset, None, int] = UNSET\n",
    "optional_value = unset_as_none(sample_value)# optional_value will be None"
   ]
  }
 ],
 "metadata": {
  "kernelspec": {
   "display_name": "Python 3 (ipykernel)",
   "language": "python",
   "name": "python3"
  },
  "language_info": {
   "codemirror_mode": {
    "name": "ipython",
    "version": 3
   },
   "file_extension": ".py",
   "mimetype": "text/x-python",
   "name": "python",
   "nbconvert_exporter": "python",
   "pygments_lexer": "ipython3",
   "version": "3.11.4"
  }
 },
 "nbformat": 4,
 "nbformat_minor": 5
}
